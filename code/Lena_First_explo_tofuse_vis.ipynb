{
 "cells": [
  {
   "cell_type": "code",
   "execution_count": 1,
   "metadata": {},
   "outputs": [],
   "source": [
    "import pandas as pd\n",
    "import tarfile\n",
    "%matplotlib inline\n",
    "import matplotlib.pyplot as plt\n",
    "import seaborn as sns"
   ]
  },
  {
   "cell_type": "code",
   "execution_count": 2,
   "metadata": {},
   "outputs": [],
   "source": [
    "DATA_FOLDER = 'Data/'\n",
    "\n",
    "MOVIE_DATASET = DATA_FOLDER+\"MovieSummaries.tar.gz\""
   ]
  },
  {
   "cell_type": "code",
   "execution_count": 3,
   "metadata": {},
   "outputs": [],
   "source": [
    "# Extract the .tar.gz archive\n",
    "with tarfile.open(MOVIE_DATASET, 'r:gz') as tar:\n",
    "    tar.extractall(path=DATA_FOLDER)\n",
    "\n",
    "# Load the data into a DataFrame\n",
    "file_path = DATA_FOLDER+\"MovieSummaries\""
   ]
  },
  {
   "cell_type": "code",
   "execution_count": 4,
   "metadata": {},
   "outputs": [
    {
     "name": "stdout",
     "output_type": "stream",
     "text": [
      "Data/MovieSummaries\n"
     ]
    }
   ],
   "source": [
    "print(file_path)"
   ]
  },
  {
   "cell_type": "code",
   "execution_count": 5,
   "metadata": {},
   "outputs": [
    {
     "data": {
      "text/html": [
       "<div>\n",
       "<style scoped>\n",
       "    .dataframe tbody tr th:only-of-type {\n",
       "        vertical-align: middle;\n",
       "    }\n",
       "\n",
       "    .dataframe tbody tr th {\n",
       "        vertical-align: top;\n",
       "    }\n",
       "\n",
       "    .dataframe thead th {\n",
       "        text-align: right;\n",
       "    }\n",
       "</style>\n",
       "<table border=\"1\" class=\"dataframe\">\n",
       "  <thead>\n",
       "    <tr style=\"text-align: right;\">\n",
       "      <th></th>\n",
       "      <th>Wikipedia_movie_ID</th>\n",
       "      <th>Freebase_movie_ID</th>\n",
       "      <th>Movie_release_date</th>\n",
       "      <th>Character_name</th>\n",
       "      <th>Actor_date_of_birth</th>\n",
       "      <th>Actor_gender</th>\n",
       "      <th>Actor_height</th>\n",
       "      <th>Actor_ethnicity</th>\n",
       "      <th>Actor_name</th>\n",
       "      <th>Actor_age_movie_release</th>\n",
       "      <th>Freebase_character/actor_map_ID</th>\n",
       "      <th>Freebase_character_ID</th>\n",
       "      <th>Freebase_actor_ID</th>\n",
       "    </tr>\n",
       "  </thead>\n",
       "  <tbody>\n",
       "    <tr>\n",
       "      <th>0</th>\n",
       "      <td>975900</td>\n",
       "      <td>/m/03vyhn</td>\n",
       "      <td>2001-08-24</td>\n",
       "      <td>Lieutenant Melanie Ballard</td>\n",
       "      <td>1974-08-15</td>\n",
       "      <td>F</td>\n",
       "      <td>1.780</td>\n",
       "      <td>/m/044038p</td>\n",
       "      <td>Natasha Henstridge</td>\n",
       "      <td>27.0</td>\n",
       "      <td>/m/0jys3m</td>\n",
       "      <td>/m/0bgchn4</td>\n",
       "      <td>/m/0346l4</td>\n",
       "    </tr>\n",
       "    <tr>\n",
       "      <th>1</th>\n",
       "      <td>975900</td>\n",
       "      <td>/m/03vyhn</td>\n",
       "      <td>2001-08-24</td>\n",
       "      <td>Desolation Williams</td>\n",
       "      <td>1969-06-15</td>\n",
       "      <td>M</td>\n",
       "      <td>1.727</td>\n",
       "      <td>/m/0x67</td>\n",
       "      <td>Ice Cube</td>\n",
       "      <td>32.0</td>\n",
       "      <td>/m/0jys3g</td>\n",
       "      <td>/m/0bgchn_</td>\n",
       "      <td>/m/01vw26l</td>\n",
       "    </tr>\n",
       "    <tr>\n",
       "      <th>2</th>\n",
       "      <td>975900</td>\n",
       "      <td>/m/03vyhn</td>\n",
       "      <td>2001-08-24</td>\n",
       "      <td>Sgt Jericho Butler</td>\n",
       "      <td>1967-09-12</td>\n",
       "      <td>M</td>\n",
       "      <td>1.750</td>\n",
       "      <td>NaN</td>\n",
       "      <td>Jason Statham</td>\n",
       "      <td>33.0</td>\n",
       "      <td>/m/02vchl6</td>\n",
       "      <td>/m/0bgchnq</td>\n",
       "      <td>/m/034hyc</td>\n",
       "    </tr>\n",
       "    <tr>\n",
       "      <th>3</th>\n",
       "      <td>975900</td>\n",
       "      <td>/m/03vyhn</td>\n",
       "      <td>2001-08-24</td>\n",
       "      <td>Bashira Kincaid</td>\n",
       "      <td>1977-09-25</td>\n",
       "      <td>F</td>\n",
       "      <td>1.650</td>\n",
       "      <td>NaN</td>\n",
       "      <td>Clea DuVall</td>\n",
       "      <td>23.0</td>\n",
       "      <td>/m/02vbb3r</td>\n",
       "      <td>/m/0bgchp9</td>\n",
       "      <td>/m/01y9xg</td>\n",
       "    </tr>\n",
       "    <tr>\n",
       "      <th>4</th>\n",
       "      <td>975900</td>\n",
       "      <td>/m/03vyhn</td>\n",
       "      <td>2001-08-24</td>\n",
       "      <td>Commander Helena Braddock</td>\n",
       "      <td>1949-05-26</td>\n",
       "      <td>F</td>\n",
       "      <td>1.727</td>\n",
       "      <td>/m/0x67</td>\n",
       "      <td>Pam Grier</td>\n",
       "      <td>52.0</td>\n",
       "      <td>/m/02vdcfp</td>\n",
       "      <td>/m/0bgchnd</td>\n",
       "      <td>/m/0418ft</td>\n",
       "    </tr>\n",
       "  </tbody>\n",
       "</table>\n",
       "</div>"
      ],
      "text/plain": [
       "   Wikipedia_movie_ID Freebase_movie_ID Movie_release_date  \\\n",
       "0              975900         /m/03vyhn         2001-08-24   \n",
       "1              975900         /m/03vyhn         2001-08-24   \n",
       "2              975900         /m/03vyhn         2001-08-24   \n",
       "3              975900         /m/03vyhn         2001-08-24   \n",
       "4              975900         /m/03vyhn         2001-08-24   \n",
       "\n",
       "               Character_name Actor_date_of_birth Actor_gender  Actor_height  \\\n",
       "0  Lieutenant Melanie Ballard          1974-08-15            F         1.780   \n",
       "1         Desolation Williams          1969-06-15            M         1.727   \n",
       "2          Sgt Jericho Butler          1967-09-12            M         1.750   \n",
       "3             Bashira Kincaid          1977-09-25            F         1.650   \n",
       "4   Commander Helena Braddock          1949-05-26            F         1.727   \n",
       "\n",
       "  Actor_ethnicity          Actor_name  Actor_age_movie_release  \\\n",
       "0      /m/044038p  Natasha Henstridge                     27.0   \n",
       "1         /m/0x67            Ice Cube                     32.0   \n",
       "2             NaN       Jason Statham                     33.0   \n",
       "3             NaN         Clea DuVall                     23.0   \n",
       "4         /m/0x67           Pam Grier                     52.0   \n",
       "\n",
       "  Freebase_character/actor_map_ID Freebase_character_ID Freebase_actor_ID  \n",
       "0                       /m/0jys3m            /m/0bgchn4         /m/0346l4  \n",
       "1                       /m/0jys3g            /m/0bgchn_        /m/01vw26l  \n",
       "2                      /m/02vchl6            /m/0bgchnq         /m/034hyc  \n",
       "3                      /m/02vbb3r            /m/0bgchp9         /m/01y9xg  \n",
       "4                      /m/02vdcfp            /m/0bgchnd         /m/0418ft  "
      ]
     },
     "execution_count": 5,
     "metadata": {},
     "output_type": "execute_result"
    }
   ],
   "source": [
    "CHARACTER_DATA_SET = file_path+\"/character.metadata.tsv\"\n",
    "CharacterDF = pd.read_table(CHARACTER_DATA_SET)\n",
    "\n",
    "#add headers\n",
    "CharacterDF.columns = ['Wikipedia_movie_ID', 'Freebase_movie_ID', 'Movie_release_date', 'Character_name', 'Actor_date_of_birth', 'Actor_gender', 'Actor_height', 'Actor_ethnicity', 'Actor_name', 'Actor_age_movie_release', 'Freebase_character/actor_map_ID', 'Freebase_character_ID', 'Freebase_actor_ID']\n",
    "\n",
    "# Inspect and work with the DataFrame\n",
    "CharacterDF.head() # Display the first few rows of the DataFrame\n"
   ]
  },
  {
   "cell_type": "code",
   "execution_count": 6,
   "metadata": {},
   "outputs": [
    {
     "data": {
      "text/html": [
       "<div>\n",
       "<style scoped>\n",
       "    .dataframe tbody tr th:only-of-type {\n",
       "        vertical-align: middle;\n",
       "    }\n",
       "\n",
       "    .dataframe tbody tr th {\n",
       "        vertical-align: top;\n",
       "    }\n",
       "\n",
       "    .dataframe thead th {\n",
       "        text-align: right;\n",
       "    }\n",
       "</style>\n",
       "<table border=\"1\" class=\"dataframe\">\n",
       "  <thead>\n",
       "    <tr style=\"text-align: right;\">\n",
       "      <th></th>\n",
       "      <th>Wikipedia_movie_ID</th>\n",
       "      <th>Freebase_movie_ID</th>\n",
       "      <th>Movie_name</th>\n",
       "      <th>Movie_release_date</th>\n",
       "      <th>Movie_box_office_revenue</th>\n",
       "      <th>Movie_runtime</th>\n",
       "      <th>Movie_languages</th>\n",
       "      <th>Movie_countries</th>\n",
       "      <th>Movie_genres</th>\n",
       "    </tr>\n",
       "  </thead>\n",
       "  <tbody>\n",
       "    <tr>\n",
       "      <th>0</th>\n",
       "      <td>3196793</td>\n",
       "      <td>/m/08yl5d</td>\n",
       "      <td>Getting Away with Murder: The JonBenét Ramsey ...</td>\n",
       "      <td>2000-02-16</td>\n",
       "      <td>NaN</td>\n",
       "      <td>95.0</td>\n",
       "      <td>{\"/m/02h40lc\": \"English Language\"}</td>\n",
       "      <td>{\"/m/09c7w0\": \"United States of America\"}</td>\n",
       "      <td>{\"/m/02n4kr\": \"Mystery\", \"/m/03bxz7\": \"Biograp...</td>\n",
       "    </tr>\n",
       "    <tr>\n",
       "      <th>1</th>\n",
       "      <td>28463795</td>\n",
       "      <td>/m/0crgdbh</td>\n",
       "      <td>Brun bitter</td>\n",
       "      <td>1988</td>\n",
       "      <td>NaN</td>\n",
       "      <td>83.0</td>\n",
       "      <td>{\"/m/05f_3\": \"Norwegian Language\"}</td>\n",
       "      <td>{\"/m/05b4w\": \"Norway\"}</td>\n",
       "      <td>{\"/m/0lsxr\": \"Crime Fiction\", \"/m/07s9rl0\": \"D...</td>\n",
       "    </tr>\n",
       "    <tr>\n",
       "      <th>2</th>\n",
       "      <td>9363483</td>\n",
       "      <td>/m/0285_cd</td>\n",
       "      <td>White Of The Eye</td>\n",
       "      <td>1987</td>\n",
       "      <td>NaN</td>\n",
       "      <td>110.0</td>\n",
       "      <td>{\"/m/02h40lc\": \"English Language\"}</td>\n",
       "      <td>{\"/m/07ssc\": \"United Kingdom\"}</td>\n",
       "      <td>{\"/m/01jfsb\": \"Thriller\", \"/m/0glj9q\": \"Erotic...</td>\n",
       "    </tr>\n",
       "    <tr>\n",
       "      <th>3</th>\n",
       "      <td>261236</td>\n",
       "      <td>/m/01mrr1</td>\n",
       "      <td>A Woman in Flames</td>\n",
       "      <td>1983</td>\n",
       "      <td>NaN</td>\n",
       "      <td>106.0</td>\n",
       "      <td>{\"/m/04306rv\": \"German Language\"}</td>\n",
       "      <td>{\"/m/0345h\": \"Germany\"}</td>\n",
       "      <td>{\"/m/07s9rl0\": \"Drama\"}</td>\n",
       "    </tr>\n",
       "    <tr>\n",
       "      <th>4</th>\n",
       "      <td>13696889</td>\n",
       "      <td>/m/03cfc81</td>\n",
       "      <td>The Gangsters</td>\n",
       "      <td>1913-05-29</td>\n",
       "      <td>NaN</td>\n",
       "      <td>35.0</td>\n",
       "      <td>{\"/m/06ppq\": \"Silent film\", \"/m/02h40lc\": \"Eng...</td>\n",
       "      <td>{\"/m/09c7w0\": \"United States of America\"}</td>\n",
       "      <td>{\"/m/02hmvc\": \"Short Film\", \"/m/06ppq\": \"Silen...</td>\n",
       "    </tr>\n",
       "  </tbody>\n",
       "</table>\n",
       "</div>"
      ],
      "text/plain": [
       "   Wikipedia_movie_ID Freebase_movie_ID  \\\n",
       "0             3196793         /m/08yl5d   \n",
       "1            28463795        /m/0crgdbh   \n",
       "2             9363483        /m/0285_cd   \n",
       "3              261236         /m/01mrr1   \n",
       "4            13696889        /m/03cfc81   \n",
       "\n",
       "                                          Movie_name Movie_release_date  \\\n",
       "0  Getting Away with Murder: The JonBenét Ramsey ...         2000-02-16   \n",
       "1                                        Brun bitter               1988   \n",
       "2                                   White Of The Eye               1987   \n",
       "3                                  A Woman in Flames               1983   \n",
       "4                                      The Gangsters         1913-05-29   \n",
       "\n",
       "   Movie_box_office_revenue  Movie_runtime  \\\n",
       "0                       NaN           95.0   \n",
       "1                       NaN           83.0   \n",
       "2                       NaN          110.0   \n",
       "3                       NaN          106.0   \n",
       "4                       NaN           35.0   \n",
       "\n",
       "                                     Movie_languages  \\\n",
       "0                 {\"/m/02h40lc\": \"English Language\"}   \n",
       "1                 {\"/m/05f_3\": \"Norwegian Language\"}   \n",
       "2                 {\"/m/02h40lc\": \"English Language\"}   \n",
       "3                  {\"/m/04306rv\": \"German Language\"}   \n",
       "4  {\"/m/06ppq\": \"Silent film\", \"/m/02h40lc\": \"Eng...   \n",
       "\n",
       "                             Movie_countries  \\\n",
       "0  {\"/m/09c7w0\": \"United States of America\"}   \n",
       "1                     {\"/m/05b4w\": \"Norway\"}   \n",
       "2             {\"/m/07ssc\": \"United Kingdom\"}   \n",
       "3                    {\"/m/0345h\": \"Germany\"}   \n",
       "4  {\"/m/09c7w0\": \"United States of America\"}   \n",
       "\n",
       "                                        Movie_genres  \n",
       "0  {\"/m/02n4kr\": \"Mystery\", \"/m/03bxz7\": \"Biograp...  \n",
       "1  {\"/m/0lsxr\": \"Crime Fiction\", \"/m/07s9rl0\": \"D...  \n",
       "2  {\"/m/01jfsb\": \"Thriller\", \"/m/0glj9q\": \"Erotic...  \n",
       "3                            {\"/m/07s9rl0\": \"Drama\"}  \n",
       "4  {\"/m/02hmvc\": \"Short Film\", \"/m/06ppq\": \"Silen...  "
      ]
     },
     "execution_count": 6,
     "metadata": {},
     "output_type": "execute_result"
    }
   ],
   "source": [
    "MOVIE_DATA_SET = file_path+\"/movie.metadata.tsv\"\n",
    "MovieDF = pd.read_table(MOVIE_DATA_SET)\n",
    "MovieDF.columns = ['Wikipedia_movie_ID', 'Freebase_movie_ID', 'Movie_name','Movie_release_date', 'Movie_box_office_revenue', 'Movie_runtime', 'Movie_languages', 'Movie_countries', 'Movie_genres']\n",
    "\n",
    "\n",
    "# Inspect and work with the DataFrame\n",
    "MovieDF.head() # Display the first few rows of the DataFrame\n"
   ]
  },
  {
   "cell_type": "markdown",
   "metadata": {},
   "source": [
    "**Some remarks on the data**\n",
    "Movie release date not always formatted in the same way. \n",
    "Lots of NaN in box office revenue. \n",
    "Movie language formatted in a strange way. \n"
   ]
  },
  {
   "cell_type": "code",
   "execution_count": 7,
   "metadata": {},
   "outputs": [
    {
     "data": {
      "text/plain": [
       "str"
      ]
     },
     "execution_count": 7,
     "metadata": {},
     "output_type": "execute_result"
    }
   ],
   "source": [
    "type(MovieDF['Movie_release_date'][1])"
   ]
  },
  {
   "cell_type": "code",
   "execution_count": null,
   "metadata": {},
   "outputs": [],
   "source": [
    "\n"
   ]
  },
  {
   "cell_type": "markdown",
   "metadata": {},
   "source": [
    "### Some ploting"
   ]
  },
  {
   "cell_type": "markdown",
   "metadata": {},
   "source": [
    "### Genre representation"
   ]
  },
  {
   "cell_type": "code",
   "execution_count": 8,
   "metadata": {},
   "outputs": [],
   "source": [
    "#import ast \n",
    "import json"
   ]
  },
  {
   "cell_type": "code",
   "execution_count": 9,
   "metadata": {},
   "outputs": [],
   "source": [
    "import ast  # This library is used to safely evaluate the literal syntax tree of a string\n",
    "\n",
    "\n",
    "# Convert the string representation of the dictionary to an actual dictionary\n",
    "MovieDF['Movie_genres'] = MovieDF['Movie_genres'].apply(ast.literal_eval)\n",
    "MovieDF['Movie_languages'] = MovieDF['Movie_languages'].apply(ast.literal_eval)\n",
    "MovieDF['Movie_countries'] = MovieDF['Movie_countries'].apply(ast.literal_eval)\n",
    "\n",
    "MovieDF['Movie_languages_list'] = MovieDF['Movie_languages'].apply(lambda x: list(x.values()))\n",
    "MovieDF['Movie_countries_list'] = MovieDF['Movie_countries'].apply(lambda x: list(x.values()))"
   ]
  },
  {
   "cell_type": "code",
   "execution_count": 10,
   "metadata": {},
   "outputs": [
    {
     "data": {
      "text/html": [
       "<div>\n",
       "<style scoped>\n",
       "    .dataframe tbody tr th:only-of-type {\n",
       "        vertical-align: middle;\n",
       "    }\n",
       "\n",
       "    .dataframe tbody tr th {\n",
       "        vertical-align: top;\n",
       "    }\n",
       "\n",
       "    .dataframe thead th {\n",
       "        text-align: right;\n",
       "    }\n",
       "</style>\n",
       "<table border=\"1\" class=\"dataframe\">\n",
       "  <thead>\n",
       "    <tr style=\"text-align: right;\">\n",
       "      <th></th>\n",
       "      <th>Wikipedia_movie_ID</th>\n",
       "      <th>Freebase_movie_ID</th>\n",
       "      <th>Movie_name</th>\n",
       "      <th>Movie_release_date</th>\n",
       "      <th>Movie_box_office_revenue</th>\n",
       "      <th>Movie_runtime</th>\n",
       "      <th>Movie_languages</th>\n",
       "      <th>Movie_countries</th>\n",
       "      <th>Movie_genres</th>\n",
       "      <th>Movie_languages_list</th>\n",
       "      <th>Movie_countries_list</th>\n",
       "    </tr>\n",
       "  </thead>\n",
       "  <tbody>\n",
       "    <tr>\n",
       "      <th>0</th>\n",
       "      <td>3196793</td>\n",
       "      <td>/m/08yl5d</td>\n",
       "      <td>Getting Away with Murder: The JonBenét Ramsey ...</td>\n",
       "      <td>2000-02-16</td>\n",
       "      <td>NaN</td>\n",
       "      <td>95.0</td>\n",
       "      <td>{'/m/02h40lc': 'English Language'}</td>\n",
       "      <td>{'/m/09c7w0': 'United States of America'}</td>\n",
       "      <td>{'/m/02n4kr': 'Mystery', '/m/03bxz7': 'Biograp...</td>\n",
       "      <td>[English Language]</td>\n",
       "      <td>[United States of America]</td>\n",
       "    </tr>\n",
       "    <tr>\n",
       "      <th>1</th>\n",
       "      <td>28463795</td>\n",
       "      <td>/m/0crgdbh</td>\n",
       "      <td>Brun bitter</td>\n",
       "      <td>1988</td>\n",
       "      <td>NaN</td>\n",
       "      <td>83.0</td>\n",
       "      <td>{'/m/05f_3': 'Norwegian Language'}</td>\n",
       "      <td>{'/m/05b4w': 'Norway'}</td>\n",
       "      <td>{'/m/0lsxr': 'Crime Fiction', '/m/07s9rl0': 'D...</td>\n",
       "      <td>[Norwegian Language]</td>\n",
       "      <td>[Norway]</td>\n",
       "    </tr>\n",
       "    <tr>\n",
       "      <th>2</th>\n",
       "      <td>9363483</td>\n",
       "      <td>/m/0285_cd</td>\n",
       "      <td>White Of The Eye</td>\n",
       "      <td>1987</td>\n",
       "      <td>NaN</td>\n",
       "      <td>110.0</td>\n",
       "      <td>{'/m/02h40lc': 'English Language'}</td>\n",
       "      <td>{'/m/07ssc': 'United Kingdom'}</td>\n",
       "      <td>{'/m/01jfsb': 'Thriller', '/m/0glj9q': 'Erotic...</td>\n",
       "      <td>[English Language]</td>\n",
       "      <td>[United Kingdom]</td>\n",
       "    </tr>\n",
       "    <tr>\n",
       "      <th>3</th>\n",
       "      <td>261236</td>\n",
       "      <td>/m/01mrr1</td>\n",
       "      <td>A Woman in Flames</td>\n",
       "      <td>1983</td>\n",
       "      <td>NaN</td>\n",
       "      <td>106.0</td>\n",
       "      <td>{'/m/04306rv': 'German Language'}</td>\n",
       "      <td>{'/m/0345h': 'Germany'}</td>\n",
       "      <td>{'/m/07s9rl0': 'Drama'}</td>\n",
       "      <td>[German Language]</td>\n",
       "      <td>[Germany]</td>\n",
       "    </tr>\n",
       "    <tr>\n",
       "      <th>4</th>\n",
       "      <td>13696889</td>\n",
       "      <td>/m/03cfc81</td>\n",
       "      <td>The Gangsters</td>\n",
       "      <td>1913-05-29</td>\n",
       "      <td>NaN</td>\n",
       "      <td>35.0</td>\n",
       "      <td>{'/m/06ppq': 'Silent film', '/m/02h40lc': 'Eng...</td>\n",
       "      <td>{'/m/09c7w0': 'United States of America'}</td>\n",
       "      <td>{'/m/02hmvc': 'Short Film', '/m/06ppq': 'Silen...</td>\n",
       "      <td>[Silent film, English Language]</td>\n",
       "      <td>[United States of America]</td>\n",
       "    </tr>\n",
       "    <tr>\n",
       "      <th>...</th>\n",
       "      <td>...</td>\n",
       "      <td>...</td>\n",
       "      <td>...</td>\n",
       "      <td>...</td>\n",
       "      <td>...</td>\n",
       "      <td>...</td>\n",
       "      <td>...</td>\n",
       "      <td>...</td>\n",
       "      <td>...</td>\n",
       "      <td>...</td>\n",
       "      <td>...</td>\n",
       "    </tr>\n",
       "    <tr>\n",
       "      <th>81735</th>\n",
       "      <td>35228177</td>\n",
       "      <td>/m/0j7hxnt</td>\n",
       "      <td>Mermaids: The Body Found</td>\n",
       "      <td>2011-03-19</td>\n",
       "      <td>NaN</td>\n",
       "      <td>120.0</td>\n",
       "      <td>{'/m/02h40lc': 'English Language'}</td>\n",
       "      <td>{'/m/09c7w0': 'United States of America'}</td>\n",
       "      <td>{'/m/07s9rl0': 'Drama'}</td>\n",
       "      <td>[English Language]</td>\n",
       "      <td>[United States of America]</td>\n",
       "    </tr>\n",
       "    <tr>\n",
       "      <th>81736</th>\n",
       "      <td>34980460</td>\n",
       "      <td>/m/0g4pl34</td>\n",
       "      <td>Knuckle</td>\n",
       "      <td>2011-01-21</td>\n",
       "      <td>NaN</td>\n",
       "      <td>96.0</td>\n",
       "      <td>{'/m/02h40lc': 'English Language'}</td>\n",
       "      <td>{'/m/03rt9': 'Ireland', '/m/07ssc': 'United Ki...</td>\n",
       "      <td>{'/m/03bxz7': 'Biographical film', '/m/07s9rl0...</td>\n",
       "      <td>[English Language]</td>\n",
       "      <td>[Ireland, United Kingdom]</td>\n",
       "    </tr>\n",
       "    <tr>\n",
       "      <th>81737</th>\n",
       "      <td>9971909</td>\n",
       "      <td>/m/02pygw1</td>\n",
       "      <td>Another Nice Mess</td>\n",
       "      <td>1972-09-22</td>\n",
       "      <td>NaN</td>\n",
       "      <td>66.0</td>\n",
       "      <td>{'/m/02h40lc': 'English Language'}</td>\n",
       "      <td>{'/m/09c7w0': 'United States of America'}</td>\n",
       "      <td>{'/m/06nbt': 'Satire', '/m/01z4y': 'Comedy'}</td>\n",
       "      <td>[English Language]</td>\n",
       "      <td>[United States of America]</td>\n",
       "    </tr>\n",
       "    <tr>\n",
       "      <th>81738</th>\n",
       "      <td>913762</td>\n",
       "      <td>/m/03pcrp</td>\n",
       "      <td>The Super Dimension Fortress Macross II: Lover...</td>\n",
       "      <td>1992-05-21</td>\n",
       "      <td>NaN</td>\n",
       "      <td>150.0</td>\n",
       "      <td>{'/m/03_9r': 'Japanese Language'}</td>\n",
       "      <td>{'/m/03_3d': 'Japan'}</td>\n",
       "      <td>{'/m/06n90': 'Science Fiction', '/m/0gw5n2f': ...</td>\n",
       "      <td>[Japanese Language]</td>\n",
       "      <td>[Japan]</td>\n",
       "    </tr>\n",
       "    <tr>\n",
       "      <th>81739</th>\n",
       "      <td>12476867</td>\n",
       "      <td>/m/02w7zz8</td>\n",
       "      <td>Spliced</td>\n",
       "      <td>2002</td>\n",
       "      <td>NaN</td>\n",
       "      <td>86.0</td>\n",
       "      <td>{'/m/02h40lc': 'English Language'}</td>\n",
       "      <td>{'/m/0d060g': 'Canada'}</td>\n",
       "      <td>{'/m/01jfsb': 'Thriller', '/m/03npn': 'Horror'...</td>\n",
       "      <td>[English Language]</td>\n",
       "      <td>[Canada]</td>\n",
       "    </tr>\n",
       "  </tbody>\n",
       "</table>\n",
       "<p>81740 rows × 11 columns</p>\n",
       "</div>"
      ],
      "text/plain": [
       "       Wikipedia_movie_ID Freebase_movie_ID  \\\n",
       "0                 3196793         /m/08yl5d   \n",
       "1                28463795        /m/0crgdbh   \n",
       "2                 9363483        /m/0285_cd   \n",
       "3                  261236         /m/01mrr1   \n",
       "4                13696889        /m/03cfc81   \n",
       "...                   ...               ...   \n",
       "81735            35228177        /m/0j7hxnt   \n",
       "81736            34980460        /m/0g4pl34   \n",
       "81737             9971909        /m/02pygw1   \n",
       "81738              913762         /m/03pcrp   \n",
       "81739            12476867        /m/02w7zz8   \n",
       "\n",
       "                                              Movie_name Movie_release_date  \\\n",
       "0      Getting Away with Murder: The JonBenét Ramsey ...         2000-02-16   \n",
       "1                                            Brun bitter               1988   \n",
       "2                                       White Of The Eye               1987   \n",
       "3                                      A Woman in Flames               1983   \n",
       "4                                          The Gangsters         1913-05-29   \n",
       "...                                                  ...                ...   \n",
       "81735                           Mermaids: The Body Found         2011-03-19   \n",
       "81736                                            Knuckle         2011-01-21   \n",
       "81737                                  Another Nice Mess         1972-09-22   \n",
       "81738  The Super Dimension Fortress Macross II: Lover...         1992-05-21   \n",
       "81739                                            Spliced               2002   \n",
       "\n",
       "       Movie_box_office_revenue  Movie_runtime  \\\n",
       "0                           NaN           95.0   \n",
       "1                           NaN           83.0   \n",
       "2                           NaN          110.0   \n",
       "3                           NaN          106.0   \n",
       "4                           NaN           35.0   \n",
       "...                         ...            ...   \n",
       "81735                       NaN          120.0   \n",
       "81736                       NaN           96.0   \n",
       "81737                       NaN           66.0   \n",
       "81738                       NaN          150.0   \n",
       "81739                       NaN           86.0   \n",
       "\n",
       "                                         Movie_languages  \\\n",
       "0                     {'/m/02h40lc': 'English Language'}   \n",
       "1                     {'/m/05f_3': 'Norwegian Language'}   \n",
       "2                     {'/m/02h40lc': 'English Language'}   \n",
       "3                      {'/m/04306rv': 'German Language'}   \n",
       "4      {'/m/06ppq': 'Silent film', '/m/02h40lc': 'Eng...   \n",
       "...                                                  ...   \n",
       "81735                 {'/m/02h40lc': 'English Language'}   \n",
       "81736                 {'/m/02h40lc': 'English Language'}   \n",
       "81737                 {'/m/02h40lc': 'English Language'}   \n",
       "81738                  {'/m/03_9r': 'Japanese Language'}   \n",
       "81739                 {'/m/02h40lc': 'English Language'}   \n",
       "\n",
       "                                         Movie_countries  \\\n",
       "0              {'/m/09c7w0': 'United States of America'}   \n",
       "1                                 {'/m/05b4w': 'Norway'}   \n",
       "2                         {'/m/07ssc': 'United Kingdom'}   \n",
       "3                                {'/m/0345h': 'Germany'}   \n",
       "4              {'/m/09c7w0': 'United States of America'}   \n",
       "...                                                  ...   \n",
       "81735          {'/m/09c7w0': 'United States of America'}   \n",
       "81736  {'/m/03rt9': 'Ireland', '/m/07ssc': 'United Ki...   \n",
       "81737          {'/m/09c7w0': 'United States of America'}   \n",
       "81738                              {'/m/03_3d': 'Japan'}   \n",
       "81739                            {'/m/0d060g': 'Canada'}   \n",
       "\n",
       "                                            Movie_genres  \\\n",
       "0      {'/m/02n4kr': 'Mystery', '/m/03bxz7': 'Biograp...   \n",
       "1      {'/m/0lsxr': 'Crime Fiction', '/m/07s9rl0': 'D...   \n",
       "2      {'/m/01jfsb': 'Thriller', '/m/0glj9q': 'Erotic...   \n",
       "3                                {'/m/07s9rl0': 'Drama'}   \n",
       "4      {'/m/02hmvc': 'Short Film', '/m/06ppq': 'Silen...   \n",
       "...                                                  ...   \n",
       "81735                            {'/m/07s9rl0': 'Drama'}   \n",
       "81736  {'/m/03bxz7': 'Biographical film', '/m/07s9rl0...   \n",
       "81737       {'/m/06nbt': 'Satire', '/m/01z4y': 'Comedy'}   \n",
       "81738  {'/m/06n90': 'Science Fiction', '/m/0gw5n2f': ...   \n",
       "81739  {'/m/01jfsb': 'Thriller', '/m/03npn': 'Horror'...   \n",
       "\n",
       "                  Movie_languages_list        Movie_countries_list  \n",
       "0                   [English Language]  [United States of America]  \n",
       "1                 [Norwegian Language]                    [Norway]  \n",
       "2                   [English Language]            [United Kingdom]  \n",
       "3                    [German Language]                   [Germany]  \n",
       "4      [Silent film, English Language]  [United States of America]  \n",
       "...                                ...                         ...  \n",
       "81735               [English Language]  [United States of America]  \n",
       "81736               [English Language]   [Ireland, United Kingdom]  \n",
       "81737               [English Language]  [United States of America]  \n",
       "81738              [Japanese Language]                     [Japan]  \n",
       "81739               [English Language]                    [Canada]  \n",
       "\n",
       "[81740 rows x 11 columns]"
      ]
     },
     "execution_count": 10,
     "metadata": {},
     "output_type": "execute_result"
    }
   ],
   "source": [
    "MovieDF"
   ]
  },
  {
   "cell_type": "code",
   "execution_count": 24,
   "metadata": {},
   "outputs": [
    {
     "data": {
      "text/plain": [
       "Drama                   34007\n",
       "Comedy                  16349\n",
       "Romance Film            10234\n",
       "Black-and-white          9094\n",
       "Action                   8797\n",
       "                        ...  \n",
       "Neorealism                  1\n",
       "Silhouette animation        1\n",
       "Chick flick                 1\n",
       "Statutory rape              1\n",
       "Buddy Picture               1\n",
       "Length: 363, dtype: int64"
      ]
     },
     "execution_count": 24,
     "metadata": {},
     "output_type": "execute_result"
    }
   ],
   "source": [
    "import pandas as pd\n",
    "\n",
    "\n",
    "# Create a new column for the list of genres\n",
    "MovieDF['Movie_genres_list'] = MovieDF['Movie_genres'].apply(lambda x: list(x.values()))\n",
    "\n",
    "# Flatten the list of genres\n",
    "all_genres = [genre for sublist in MovieDF['Movie_genres_list'] for genre in sublist]\n",
    "\n",
    "# Create a pandas Series from the flattened list\n",
    "genre_counts = pd.Series(all_genres).value_counts()\n",
    "\n",
    "genre_counts"
   ]
  },
  {
   "cell_type": "markdown",
   "metadata": {},
   "source": [
    "*It can be noted that there are 363 genres, including many that only have one related movie. Let's therefore look at the 20 first prominent genres.*"
   ]
  },
  {
   "cell_type": "code",
   "execution_count": 29,
   "metadata": {},
   "outputs": [
    {
     "data": {
      "text/plain": [
       "Drama               34007\n",
       "Comedy              16349\n",
       "Romance Film        10234\n",
       "Black-and-white      9094\n",
       "Action               8797\n",
       "Thriller             8743\n",
       "Short Film           8141\n",
       "World cinema         7155\n",
       "Crime Fiction        6948\n",
       "Indie                6897\n",
       "Documentary          5630\n",
       "Horror               5279\n",
       "Silent film          5250\n",
       "Adventure            4962\n",
       "Family Film          4598\n",
       "Action/Adventure     4561\n",
       "Comedy film          4362\n",
       "Musical              4160\n",
       "Animation            3534\n",
       "Romantic drama       3372\n",
       "Mystery              3195\n",
       "Science Fiction      3051\n",
       "Fantasy              2820\n",
       "Romantic comedy      2680\n",
       "War film             2652\n",
       "Japanese Movies      2322\n",
       "Western              2226\n",
       "Crime Thriller       2122\n",
       "Period piece         1758\n",
       "Comedy-drama         1720\n",
       "dtype: int64"
      ]
     },
     "execution_count": 29,
     "metadata": {},
     "output_type": "execute_result"
    }
   ],
   "source": [
    "genre_counts.nlargest(30)"
   ]
  },
  {
   "cell_type": "code",
   "execution_count": 35,
   "metadata": {},
   "outputs": [],
   "source": [
    "top30_genre = genre_counts.nlargest(30)"
   ]
  },
  {
   "cell_type": "code",
   "execution_count": 39,
   "metadata": {},
   "outputs": [
    {
     "data": {
      "image/png": "[encoded data removed]",
      "text/plain": [
       "<Figure size 720x432 with 1 Axes>"
      ]
     },
     "metadata": {
      "needs_background": "light"
     },
     "output_type": "display_data"
    }
   ],
   "source": [
    "# Barchart\n",
    "plt.figure(figsize=(10, 6))  \n",
    "sns.barplot(x=top30_genre.index, y=top30_genre.values)\n",
    "plt.title('Genre Distribution')\n",
    "plt.xlabel('Genres')\n",
    "plt.ylabel('Count')\n",
    "plt.xticks(rotation=45, ha='right')  \n",
    "plt.show()\n"
   ]
  },
  {
   "cell_type": "markdown",
   "metadata": {},
   "source": [
    "*remark: Comedy film = Comedy = Comdey-Drama ; ev. regroup them together*"
   ]
  },
  {
   "cell_type": "markdown",
   "metadata": {},
   "source": [
    "Let's now look at the evolution in time of certain genre of interest. \n",
    "- SF : as it is one of the main genres excplicitly dealing with technology\n",
    "- Fantasy: as new technologies permits better rendering and thus popularity of the genre\n",
    "- Black and white & Silent Film: to look at the drop coming after the begining of color and sound\n",
    "- War films"
   ]
  },
  {
   "cell_type": "code",
   "execution_count": 44,
   "metadata": {},
   "outputs": [],
   "source": [
    "#We are only interested in the release date year\n",
    "\n",
    "# Extract the year from each cell\n",
    "MovieDF['Movie_release_date'] = MovieDF['Movie_release_date'].str.extract(r'(\\d{4})')\n",
    "\n",
    "# Convert the 'release_year' column to numeric values\n",
    "MovieDF['Movie_release_date'] = pd.to_numeric(MovieDF['Movie_release_date'], errors='coerce')"
   ]
  },
  {
   "cell_type": "code",
   "execution_count": 45,
   "metadata": {},
   "outputs": [
    {
     "data": {
      "text/plain": [
       "0        2000.0\n",
       "1        1988.0\n",
       "2        1987.0\n",
       "3        1983.0\n",
       "4        1913.0\n",
       "          ...  \n",
       "81735    2011.0\n",
       "81736    2011.0\n",
       "81737    1972.0\n",
       "81738    1992.0\n",
       "81739    2002.0\n",
       "Name: Movie_release_date, Length: 81740, dtype: float64"
      ]
     },
     "execution_count": 45,
     "metadata": {},
     "output_type": "execute_result"
    }
   ],
   "source": [
    "MovieDF['Movie_release_date']"
   ]
  },
  {
   "cell_type": "code",
   "execution_count": 57,
   "metadata": {},
   "outputs": [
    {
     "data": {
      "text/plain": [
       "3051"
      ]
     },
     "execution_count": 57,
     "metadata": {},
     "output_type": "execute_result"
    }
   ],
   "source": [
    "MovieDF['Movie_genres_list']\n",
    "pd.Series([genre for sublist in MovieDF['Movie_genres_list'] for genre in sublist]).value_counts().get('Science Fiction', 0)"
   ]
  },
  {
   "cell_type": "code",
   "execution_count": 62,
   "metadata": {},
   "outputs": [],
   "source": [
    "genre_stats_per_year = MovieDF.groupby(MovieDF['Movie_release_date']).apply(lambda x: pd.Series({\n",
    "    'SF': pd.Series([genre for sublist in x['Movie_genres_list'] for genre in sublist]).value_counts().get('Science Fiction', 0),\n",
    "    'Fantasy': pd.Series([genre for sublist in x['Movie_genres_list'] for genre in sublist]).value_counts().get('Fantasy', 0),\n",
    "    'Black-and-white': pd.Series([genre for sublist in x['Movie_genres_list'] for genre in sublist]).value_counts().get('Black-and-white', 0),\n",
    "    'Silent film':pd.Series([genre for sublist in x['Movie_genres_list'] for genre in sublist]).value_counts().get('Silent film', 0),\n",
    "    'War film':pd.Series([genre for sublist in x['Movie_genres_list'] for genre in sublist]).value_counts().get('War film', 0)\n",
    "}))"
   ]
  },
  {
   "cell_type": "code",
   "execution_count": 64,
   "metadata": {},
   "outputs": [
    {
     "data": {
      "text/html": [
       "<div>\n",
       "<style scoped>\n",
       "    .dataframe tbody tr th:only-of-type {\n",
       "        vertical-align: middle;\n",
       "    }\n",
       "\n",
       "    .dataframe tbody tr th {\n",
       "        vertical-align: top;\n",
       "    }\n",
       "\n",
       "    .dataframe thead th {\n",
       "        text-align: right;\n",
       "    }\n",
       "</style>\n",
       "<table border=\"1\" class=\"dataframe\">\n",
       "  <thead>\n",
       "    <tr style=\"text-align: right;\">\n",
       "      <th></th>\n",
       "      <th>SF</th>\n",
       "      <th>Fantasy</th>\n",
       "      <th>Black-and-white</th>\n",
       "      <th>Silent film</th>\n",
       "      <th>War film</th>\n",
       "    </tr>\n",
       "    <tr>\n",
       "      <th>Movie_release_date</th>\n",
       "      <th></th>\n",
       "      <th></th>\n",
       "      <th></th>\n",
       "      <th></th>\n",
       "      <th></th>\n",
       "    </tr>\n",
       "  </thead>\n",
       "  <tbody>\n",
       "    <tr>\n",
       "      <th>1010.0</th>\n",
       "      <td>0</td>\n",
       "      <td>0</td>\n",
       "      <td>0</td>\n",
       "      <td>0</td>\n",
       "      <td>0</td>\n",
       "    </tr>\n",
       "    <tr>\n",
       "      <th>1888.0</th>\n",
       "      <td>0</td>\n",
       "      <td>0</td>\n",
       "      <td>1</td>\n",
       "      <td>1</td>\n",
       "      <td>0</td>\n",
       "    </tr>\n",
       "    <tr>\n",
       "      <th>1889.0</th>\n",
       "      <td>0</td>\n",
       "      <td>0</td>\n",
       "      <td>1</td>\n",
       "      <td>1</td>\n",
       "      <td>0</td>\n",
       "    </tr>\n",
       "    <tr>\n",
       "      <th>1890.0</th>\n",
       "      <td>0</td>\n",
       "      <td>0</td>\n",
       "      <td>0</td>\n",
       "      <td>2</td>\n",
       "      <td>0</td>\n",
       "    </tr>\n",
       "    <tr>\n",
       "      <th>1891.0</th>\n",
       "      <td>0</td>\n",
       "      <td>0</td>\n",
       "      <td>0</td>\n",
       "      <td>1</td>\n",
       "      <td>0</td>\n",
       "    </tr>\n",
       "    <tr>\n",
       "      <th>...</th>\n",
       "      <td>...</td>\n",
       "      <td>...</td>\n",
       "      <td>...</td>\n",
       "      <td>...</td>\n",
       "      <td>...</td>\n",
       "    </tr>\n",
       "    <tr>\n",
       "      <th>2012.0</th>\n",
       "      <td>42</td>\n",
       "      <td>45</td>\n",
       "      <td>2</td>\n",
       "      <td>3</td>\n",
       "      <td>13</td>\n",
       "    </tr>\n",
       "    <tr>\n",
       "      <th>2013.0</th>\n",
       "      <td>23</td>\n",
       "      <td>13</td>\n",
       "      <td>0</td>\n",
       "      <td>0</td>\n",
       "      <td>2</td>\n",
       "    </tr>\n",
       "    <tr>\n",
       "      <th>2014.0</th>\n",
       "      <td>1</td>\n",
       "      <td>3</td>\n",
       "      <td>0</td>\n",
       "      <td>0</td>\n",
       "      <td>0</td>\n",
       "    </tr>\n",
       "    <tr>\n",
       "      <th>2015.0</th>\n",
       "      <td>3</td>\n",
       "      <td>1</td>\n",
       "      <td>0</td>\n",
       "      <td>0</td>\n",
       "      <td>0</td>\n",
       "    </tr>\n",
       "    <tr>\n",
       "      <th>2016.0</th>\n",
       "      <td>1</td>\n",
       "      <td>0</td>\n",
       "      <td>0</td>\n",
       "      <td>0</td>\n",
       "      <td>0</td>\n",
       "    </tr>\n",
       "  </tbody>\n",
       "</table>\n",
       "<p>130 rows × 5 columns</p>\n",
       "</div>"
      ],
      "text/plain": [
       "                    SF  Fantasy  Black-and-white  Silent film  War film\n",
       "Movie_release_date                                                     \n",
       "1010.0               0        0                0            0         0\n",
       "1888.0               0        0                1            1         0\n",
       "1889.0               0        0                1            1         0\n",
       "1890.0               0        0                0            2         0\n",
       "1891.0               0        0                0            1         0\n",
       "...                 ..      ...              ...          ...       ...\n",
       "2012.0              42       45                2            3        13\n",
       "2013.0              23       13                0            0         2\n",
       "2014.0               1        3                0            0         0\n",
       "2015.0               3        1                0            0         0\n",
       "2016.0               1        0                0            0         0\n",
       "\n",
       "[130 rows x 5 columns]"
      ]
     },
     "execution_count": 64,
     "metadata": {},
     "output_type": "execute_result"
    }
   ],
   "source": [
    "genre_stats_per_year"
   ]
  },
  {
   "cell_type": "markdown",
   "metadata": {},
   "source": [
    "We notice one outliar released in 1010. We drop it to better visualize the years of interest. "
   ]
  },
  {
   "cell_type": "code",
   "execution_count": 82,
   "metadata": {},
   "outputs": [],
   "source": [
    "genre_stats_per_year = genre_stats_per_year.drop([1010])"
   ]
  },
  {
   "cell_type": "code",
   "execution_count": 88,
   "metadata": {},
   "outputs": [
    {
     "data": {
      "image/png": "[encoded data removed]",
      "text/plain": [
       "<Figure size 432x288 with 1 Axes>"
      ]
     },
     "metadata": {
      "needs_background": "light"
     },
     "output_type": "display_data"
    }
   ],
   "source": [
    "plt.plot(genre_stats_per_year.index, genre_stats_per_year.SF, label = 'SF')\n",
    "plt.plot(genre_stats_per_year.index, genre_stats_per_year.Fantasy, label = 'Fantasy')\n",
    "plt.plot(genre_stats_per_year.index, genre_stats_per_year['Black-and-white'], label = 'Black-and-white')\n",
    "plt.plot(genre_stats_per_year.index, genre_stats_per_year['Silent film'], label = 'Silent film')\n",
    "plt.plot(genre_stats_per_year.index, genre_stats_per_year['War film'], label = 'War film')\n",
    "\n",
    "\n",
    "plt.xlabel(\"Years\")\n",
    "plt.ylabel(\"Released movie counts\")\n",
    "plt.title(\"Technology-related genre evolution\")\n",
    "plt.legend()\n",
    "plt.show()"
   ]
  },
  {
   "cell_type": "code",
   "execution_count": null,
   "metadata": {},
   "outputs": [],
   "source": []
  },
  {
   "cell_type": "code",
   "execution_count": 15,
   "metadata": {},
   "outputs": [],
   "source": [
    "stats_by_gender= CharacterDF.groupby(CharacterDF['Actor_gender']).apply(lambda x: pd.Series({\n",
    "    'average_height': x['Actor_height'].mean(), 'std_height': x['Actor_height'].std()\n",
    "}))\n",
    "\n",
    "#stats_by_year = movies.groupby(movies['year']).apply(lambda x: pd.Series({'average_wg': x['worldwide_gross'].mean(), 'std_wg': x['worldwide_gross'].std()\n",
    "   "
   ]
  },
  {
   "cell_type": "code",
   "execution_count": 16,
   "metadata": {},
   "outputs": [
    {
     "data": {
      "text/html": [
       "<div>\n",
       "<style scoped>\n",
       "    .dataframe tbody tr th:only-of-type {\n",
       "        vertical-align: middle;\n",
       "    }\n",
       "\n",
       "    .dataframe tbody tr th {\n",
       "        vertical-align: top;\n",
       "    }\n",
       "\n",
       "    .dataframe thead th {\n",
       "        text-align: right;\n",
       "    }\n",
       "</style>\n",
       "<table border=\"1\" class=\"dataframe\">\n",
       "  <thead>\n",
       "    <tr style=\"text-align: right;\">\n",
       "      <th></th>\n",
       "      <th>average_height</th>\n",
       "      <th>std_height</th>\n",
       "    </tr>\n",
       "    <tr>\n",
       "      <th>Actor_gender</th>\n",
       "      <th></th>\n",
       "      <th></th>\n",
       "    </tr>\n",
       "  </thead>\n",
       "  <tbody>\n",
       "    <tr>\n",
       "      <th>F</th>\n",
       "      <td>1.659008</td>\n",
       "      <td>0.068705</td>\n",
       "    </tr>\n",
       "    <tr>\n",
       "      <th>M</th>\n",
       "      <td>1.863798</td>\n",
       "      <td>5.499429</td>\n",
       "    </tr>\n",
       "  </tbody>\n",
       "</table>\n",
       "</div>"
      ],
      "text/plain": [
       "              average_height  std_height\n",
       "Actor_gender                            \n",
       "F                   1.659008    0.068705\n",
       "M                   1.863798    5.499429"
      ]
     },
     "execution_count": 16,
     "metadata": {},
     "output_type": "execute_result"
    }
   ],
   "source": [
    "stats_by_gender"
   ]
  },
  {
   "cell_type": "code",
   "execution_count": null,
   "metadata": {},
   "outputs": [],
   "source": [
    "plt.boxplot(stats_by_gender['worldwide_gross'])\n",
    "plt.xticks([])\n",
    "plt.title('Worldwide gross revenue');"
   ]
  },
  {
   "cell_type": "code",
   "execution_count": 31,
   "metadata": {},
   "outputs": [],
   "source": [
    "nb_men = CharacterDF[CharacterDF.Actor_gender == 'M'].shape[0]\n",
    "nb_women = CharacterDF[CharacterDF.Actor_gender == 'F'].shape[0]\n",
    "#CharacterDF.plot.pie(y='Actor gender')"
   ]
  },
  {
   "cell_type": "code",
   "execution_count": 33,
   "metadata": {},
   "outputs": [
    {
     "name": "stdout",
     "output_type": "stream",
     "text": [
      "270257 134802 450668\n",
      "405059\n"
     ]
    }
   ],
   "source": [
    "print(nb_men,nb_women,CharacterDF.shape[0])\n",
    "print(nb_women+nb_men)\n",
    "#lot of missing data, or non-binary?"
   ]
  },
  {
   "cell_type": "code",
   "execution_count": 35,
   "metadata": {},
   "outputs": [
    {
     "data": {
      "image/png": "[encoded data removed]",
      "text/plain": [
       "<Figure size 432x288 with 1 Axes>"
      ]
     },
     "metadata": {},
     "output_type": "display_data"
    }
   ],
   "source": [
    "data = [nb_men,nb_women]\n",
    "labels =['Men', 'Women']\n",
    "#define Seaborn color palette to use\n",
    "colors = sns.color_palette('pastel')[0:5]\n",
    "\n",
    "#create pie chart\n",
    "plt.pie(data, labels = labels, colors = colors, autopct='%.0f%%')\n",
    "plt.show()"
   ]
  },
  {
   "cell_type": "code",
   "execution_count": 38,
   "metadata": {},
   "outputs": [
    {
     "data": {
      "text/plain": [
       "<AxesSubplot:xlabel='Actor_height', ylabel='Actor_age_movie_release'>"
      ]
     },
     "execution_count": 38,
     "metadata": {},
     "output_type": "execute_result"
    },
    {
     "data": {
      "image/png": "[encoded data removed]",
      "text/plain": [
       "<Figure size 432x288 with 1 Axes>"
      ]
     },
     "metadata": {
      "needs_background": "light"
     },
     "output_type": "display_data"
    }
   ],
   "source": [
    "CharacterDF.plot(x= 'Actor_height', y= 'Actor_age_movie_release', kind = 'scatter')"
   ]
  },
  {
   "cell_type": "code",
   "execution_count": 41,
   "metadata": {},
   "outputs": [
    {
     "data": {
      "text/plain": [
       "<AxesSubplot:ylabel='Frequency'>"
      ]
     },
     "execution_count": 41,
     "metadata": {},
     "output_type": "execute_result"
    },
    {
     "data": {
      "image/png": "[encoded data removed]",
      "text/plain": [
       "<Figure size 432x288 with 1 Axes>"
      ]
     },
     "metadata": {
      "needs_background": "light"
     },
     "output_type": "display_data"
    }
   ],
   "source": [
    "CharacterDF[CharacterDF.Actor_gender == 'M'].plot(y = 'Actor_age_movie_release',kind = 'hist')"
   ]
  },
  {
   "cell_type": "markdown",
   "metadata": {},
   "source": [
    "### Add the tvtrope column"
   ]
  },
  {
   "cell_type": "code",
   "execution_count": null,
   "metadata": {},
   "outputs": [],
   "source": [
    "import pandas as pd\n",
    "import json\n",
    "\n",
    "# Read the text file into a DataFrame\n",
    "with open('your_text_file.txt', 'r') as file:\n",
    "    lines = file.readlines()\n",
    "\n",
    "data = []\n",
    "for line in lines:\n",
    "    parts = line.strip().split('\\t')\n",
    "    character = parts[0]\n",
    "    info_dict = json.loads(parts[1])\n",
    "    data.append({'character': character, **info_dict})\n",
    "\n",
    "new_df = pd.DataFrame(data)\n",
    "\n",
    "# Now, let's assume you have an existing DataFrame called 'existing_df'\n",
    "\n",
    "# Merge the new DataFrame with the existing DataFrame using the 'character' column as the key\n",
    "merged_df = pd.merge(existing_df, new_df, on='character', how='left')\n",
    "\n",
    "# 'how' parameter specifies how you want to merge:\n",
    "# - 'left' means you want to keep all rows from the 'existing_df' and add matching rows from 'new_df' if they exist.\n",
    "\n",
    "# Print the resulting DataFrame\n",
    "print(merged_df)\n"
   ]
  }
 ],
 "metadata": {
  "kernelspec": {
   "display_name": "Python 3",
   "language": "python",
   "name": "python3"
  },
  "language_info": {
   "codemirror_mode": {
    "name": "ipython",
    "version": 3
   },
   "file_extension": ".py",
   "mimetype": "text/x-python",
   "name": "python",
   "nbconvert_exporter": "python",
   "pygments_lexer": "ipython3",
   "version": "3.8.5"
  }
 },
 "nbformat": 4,
 "nbformat_minor": 4
}

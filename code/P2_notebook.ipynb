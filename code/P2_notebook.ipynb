{
 "cells": [
  {
   "cell_type": "markdown",
   "metadata": {},
   "source": [
    "# Data Handling and Initial Analyses"
   ]
  },
  {
   "cell_type": "code",
   "execution_count": null,
   "metadata": {},
   "outputs": [],
   "source": [
    "#Imports\n",
    "\n",
    "import pandas as pd\n",
    "import numpy as np\n",
    "import seaborn as sns\n",
    "import matplotlib.pyplot as plt\n",
    "from helpers import load_data_with_columns, date_to_int"
   ]
  },
  {
   "cell_type": "code",
   "execution_count": null,
   "metadata": {},
   "outputs": [],
   "source": [
    "#Loading the data\n",
    "\n",
    "DATAFOLDER = '../data/'\n",
    "character_metadata = load_data_with_columns(DATAFOLDER, 'character.metadata.tsv')\n",
    "movie_metadata = load_data_with_columns(DATAFOLDER, 'movie.metadata.tsv')\n",
    "\n",
    "movie_metadata = date_to_int(movie_metadata, 'movie_release_date')\n",
    "\n",
    "character_metadata = date_to_int(character_metadata, 'movie_release_date')"
   ]
  }
 ],
 "metadata": {
  "language_info": {
   "name": "python"
  }
 },
 "nbformat": 4,
 "nbformat_minor": 2
}

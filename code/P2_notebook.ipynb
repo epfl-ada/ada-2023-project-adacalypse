{
 "cells": [
  {
   "cell_type": "markdown",
   "metadata": {},
   "source": [
    "# Project Milestone 2 - Screen Science"
   ]
  },
  {
   "cell_type": "markdown",
   "metadata": {},
   "source": [
    "This is a python notebook containing the main code for the Applied Data Analysis project. Please refer to the README.md for an overview of the project."
   ]
  },
  {
   "cell_type": "markdown",
   "metadata": {},
   "source": [
    "## Table of contents:\n",
    "* [Imports](#zeroeth)\n",
    "* [Data loading](#first)\n",
    "* [Data preprocessing](#second)\n",
    "* [Data visualisation](#third)\n",
    "* [Focus : Technology in real life](#third)\n",
    "    * [Lost movies](#third_a)\n",
    "    * [Silent films & black and white films](#third_b)\n",
    "    * [Special effects](#third_c)\n",
    "* [Focus : Technology in movies](#fourth)\n",
    "    * [Movies about technology](#fourth_a)\n",
    "        * [Science Fiction & Fantasy](#fourth_a1)\n",
    "        * [Keyphrase analysis](#fourth_a2)\n",
    "        * [Historical events](#fourth_a3)\n",
    "    * [Sentiment analysis](#fourth_b)\n",
    "* [Next steps](#fifth)\n"
   ]
  },
  {
   "cell_type": "markdown",
   "metadata": {},
   "source": [
    "## Imports <a class=\"anchor\" id=\"zeroeth\"></a>"
   ]
  },
  {
   "cell_type": "markdown",
   "metadata": {},
   "source": [
    "We list the packages used by the project.\n",
    "\n",
    "* [pandas](https://pandas.pydata.org/) - data handling\n",
    "* [numpy](https://numpy.org/) - array math\n",
    "* [seaborn](https://seaborn.pydata.org/) - visualisation\n",
    "* [matplotlib](https://matplotlib.org/) - visualisation"
   ]
  },
  {
   "cell_type": "code",
   "execution_count": 6,
   "metadata": {},
   "outputs": [
    {
     "name": "stdout",
     "output_type": "stream",
     "text": [
      "pandas==2.1.1\n",
      "numpy==1.26.1\n",
      "seaborn==0.13.0\n",
      "matplotlib==3.8.0\n"
     ]
    }
   ],
   "source": [
    "# Imports\n",
    "import pandas as pd\n",
    "import numpy as np\n",
    "import seaborn as sns\n",
    "import matplotlib as mat\n",
    "import matplotlib.pyplot as plt\n",
    "from helpers import *\n",
    "\n",
    "# Package versions on last run\n",
    "print_versions([pd, np, sns, mat])"
   ]
  },
  {
   "cell_type": "markdown",
   "metadata": {},
   "source": [
    "## Data Loading <a class=\"anchor\" id=\"first\"></a>"
   ]
  },
  {
   "cell_type": "code",
   "execution_count": null,
   "metadata": {},
   "outputs": [],
   "source": [
    "#Loading the data\n",
    "\n",
    "DATAFOLDER = '../data/'\n",
    "character_metadata = load_data_with_columns(DATAFOLDER, 'character.metadata.tsv')\n",
    "movie_metadata = load_data_with_columns(DATAFOLDER, 'movie.metadata.tsv')\n",
    "\n",
    "movie_metadata = date_to_int(movie_metadata, 'movie_release_date')\n",
    "\n",
    "character_metadata = date_to_int(character_metadata, 'movie_release_date')"
   ]
  }
 ],
 "metadata": {
  "kernelspec": {
   "display_name": "Python 3",
   "language": "python",
   "name": "python3"
  },
  "language_info": {
   "codemirror_mode": {
    "name": "ipython",
    "version": 3
   },
   "file_extension": ".py",
   "mimetype": "text/x-python",
   "name": "python",
   "nbconvert_exporter": "python",
   "pygments_lexer": "ipython3",
   "version": "3.12.0"
  }
 },
 "nbformat": 4,
 "nbformat_minor": 2
}
